{
 "cells": [
  {
   "cell_type": "code",
   "execution_count": 1,
   "metadata": {},
   "outputs": [],
   "source": [
    "import pandas as pd\n",
    "import geopandas as gpd\n",
    "import numpy as np\n",
    "from sklearn.cluster import DBSCAN\n",
    "import similaritymeasures\n",
    "import pickle\n",
    "from pathlib import Path\n",
    "from shapely.ops import LineString\n",
    "from tqdm import tqdm\n",
    "\n",
    "import gps_utils"
   ]
  },
  {
   "cell_type": "code",
   "execution_count": 2,
   "metadata": {},
   "outputs": [],
   "source": [
    "import json\n",
    "config = json.load((Path.cwd() / 'config.json').open('rb'))\n",
    "export_fp = Path(config['project_directory']) / 'CycleAtlanta'\n",
    "if export_fp.exists() == False:\n",
    "    export_fp.mkdir()\n",
    "    \n",
    "project_dir = Path(config['project_directory']) / \"CycleAtlanta\"\n",
    "user_data_definitions = json.load(open(Path.cwd()/'user_data_definition.json'))\n",
    "cycleatlanta_data_filepath = Path(config['cycleatlanta'])"
   ]
  },
  {
   "cell_type": "markdown",
   "metadata": {},
   "source": [
    "## Reduce Spacing for Map Matching"
   ]
  },
  {
   "cell_type": "code",
   "execution_count": 3,
   "metadata": {},
   "outputs": [],
   "source": [
    "with (project_dir/'coords_1.pkl').open('rb') as fh:\n",
    "    coords_dict = pickle.load(fh)"
   ]
  },
  {
   "cell_type": "code",
   "execution_count": null,
   "metadata": {},
   "outputs": [],
   "source": []
  },
  {
   "cell_type": "code",
   "execution_count": 4,
   "metadata": {},
   "outputs": [],
   "source": [
    "for tripid, coords in coords_dict.items():\n",
    "    reduced = gps_utils.reduce_spacing(coords,speed_mph_thresh=2,spacing_ft=50)\n",
    "    #overwrite\n",
    "    coords_dict[tripid] = reduced\n",
    "    # speed_mph_thresh=2\n",
    "    # spacing_ft=50\n",
    "\n",
    "    # if coords['speed_mph'].isna().any() == False:\n",
    "    #     coords = coords[coords['speed_mph'].abs()>speed_mph_thresh]\n",
    "    \n",
    "    # coords = gps_utils.calculate_coordinate_metrics(coords)\n",
    "    \n",
    "    # current_spacing = spacing_ft\n",
    "    \n",
    "    # #start with first point\n",
    "    # keep = [coords.index.tolist()[0]]\n",
    "    \n",
    "    # for index, value in coords['traversed_distance_ft'].items():\n",
    "    #     if value > current_spacing:\n",
    "    #         keep.append(index)\n",
    "    #         current_spacing = value + spacing_ft\n",
    "    \n",
    "    # #remove points\n",
    "    # coords = coords.loc[keep]\n"
   ]
  },
  {
   "cell_type": "code",
   "execution_count": 5,
   "metadata": {},
   "outputs": [],
   "source": [
    "with (project_dir/'reduced_spacing.pkl').open('wb') as fh:\n",
    "    pickle.dump(coords_dict,fh)"
   ]
  },
  {
   "cell_type": "markdown",
   "metadata": {},
   "source": [
    "## Reduce Resolution for Frechet Distance and Visualization"
   ]
  },
  {
   "cell_type": "code",
   "execution_count": 6,
   "metadata": {},
   "outputs": [],
   "source": [
    "with (project_dir/'coords_1.pkl').open('rb') as fh:\n",
    "    coords_dict = pickle.load(fh)"
   ]
  },
  {
   "cell_type": "code",
   "execution_count": 7,
   "metadata": {},
   "outputs": [],
   "source": [
    "for tripid, coords in coords_dict.items():\n",
    "    line = np.array(LineString(coords_dict[tripid]['geometry'].tolist()).simplify(100).coords)\n",
    "    coords_dict[tripid] = line\n",
    "\n",
    "#pre-computation\n",
    "#trip_lines = {tripid: np.array(LineString(coords_dict[tripid]['geometry'].tolist()).simplify(100).coords) for tripid in need_geo}b"
   ]
  },
  {
   "cell_type": "code",
   "execution_count": 8,
   "metadata": {},
   "outputs": [],
   "source": [
    "with (project_dir/'rdp.pkl').open('wb') as fh:\n",
    "    pickle.dump(coords_dict,fh)"
   ]
  },
  {
   "cell_type": "code",
   "execution_count": null,
   "metadata": {},
   "outputs": [],
   "source": []
  }
 ],
 "metadata": {
  "kernelspec": {
   "display_name": "Python 3",
   "language": "python",
   "name": "python3"
  },
  "language_info": {
   "codemirror_mode": {
    "name": "ipython",
    "version": 3
   },
   "file_extension": ".py",
   "mimetype": "text/x-python",
   "name": "python",
   "nbconvert_exporter": "python",
   "pygments_lexer": "ipython3",
   "version": "3.9.13"
  }
 },
 "nbformat": 4,
 "nbformat_minor": 2
}
